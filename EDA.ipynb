{
 "cells": [
  {
   "cell_type": "markdown",
   "metadata": {},
   "source": [
    "# Data Exploration and Visualization"
   ]
  },
  {
   "cell_type": "code",
   "execution_count": 17,
   "metadata": {},
   "outputs": [],
   "source": [
    "import pandas as pd\n",
    "\n",
    "# Load the data from a CSV file\n",
    "rws = pd.read_csv('/Users/antoinem/Desktop/project-ada/3projet/data/datareview.csv')"
   ]
  },
  {
   "cell_type": "code",
   "execution_count": 18,
   "metadata": {},
   "outputs": [
    {
     "name": "stdout",
     "output_type": "stream",
     "text": [
      "                                              review  reviewer  rating\n",
      "0  To tell you the truth, they sell fried chicken...    Fariha       1\n",
      "1                                  Crispy was so bad    Fariha       3\n",
      "2  The restaurant provided leas items which I ord...    Juliet       1\n",
      "3  already send you a picture about my meal. tota...  Shokhina       1\n",
      "4                                Excellent as before  Tabassum       5\n"
     ]
    }
   ],
   "source": [
    "rws = rws.drop(columns=['Unnamed: 0', 'createdAt'])\n",
    "rws.rename(columns={'text': 'review', 'reviewerName': 'reviewer', 'ratingvalue': 'rating'}, inplace=True)\n",
    "\n",
    "# Display the first 5 rows\n",
    "print(rws.head())"
   ]
  }
 ],
 "metadata": {
  "kernelspec": {
   "display_name": "base",
   "language": "python",
   "name": "python3"
  },
  "language_info": {
   "codemirror_mode": {
    "name": "ipython",
    "version": 3
   },
   "file_extension": ".py",
   "mimetype": "text/x-python",
   "name": "python",
   "nbconvert_exporter": "python",
   "pygments_lexer": "ipython3",
   "version": "3.11.7"
  }
 },
 "nbformat": 4,
 "nbformat_minor": 2
}
