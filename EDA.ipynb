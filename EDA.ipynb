{
 "cells": [
  {
   "cell_type": "markdown",
   "metadata": {},
   "source": [
    "# Using Machine Learning to Estimate Ratings of Bangladeshi Restaurants from Reviews"
   ]
  },
  {
   "cell_type": "markdown",
   "metadata": {},
   "source": [
    "## Data Exploration and Visualization"
   ]
  },
  {
   "cell_type": "markdown",
   "metadata": {},
   "source": [
    "The dataset I will be working with is sourced from [Mendeley Data](https://data.mendeley.com/datasets/wc87kpk6ks/1), a reputable open-source data repository. \n",
    "This particular dataset consists of user reviews extracted from restaurants located in various places in the city of Dhaka\n",
    "\n",
    "Key information such as the review text, user ratings, and the date of the review post were compiled."
   ]
  },
  {
   "cell_type": "code",
   "execution_count": 17,
   "metadata": {},
   "outputs": [],
   "source": [
    "import pandas as pd\n",
    "\n",
    "# Load the data from a CSV file\n",
    "rws = pd.read_csv('/Users/antoinem/Desktop/project-ada/3projet/data/datareview.csv')"
   ]
  },
  {
   "cell_type": "markdown",
   "metadata": {},
   "source": [
    "In the following step, I will streamline the dataset by removing columns that are not pertinent to our analysis. Additionally, I will assign more descriptive names to certain columns to enhance clarity and facilitate easier data handling."
   ]
  },
  {
   "cell_type": "code",
   "execution_count": 18,
   "metadata": {},
   "outputs": [
    {
     "name": "stdout",
     "output_type": "stream",
     "text": [
      "                                              review  reviewer  rating\n",
      "0  To tell you the truth, they sell fried chicken...    Fariha       1\n",
      "1                                  Crispy was so bad    Fariha       3\n",
      "2  The restaurant provided leas items which I ord...    Juliet       1\n",
      "3  already send you a picture about my meal. tota...  Shokhina       1\n",
      "4                                Excellent as before  Tabassum       5\n"
     ]
    }
   ],
   "source": [
    "# Drop the 'Unnamed: 0' and 'createdAt' columns from the dataframe 'rws'\n",
    "rws = rws.drop(columns=['Unnamed: 0', 'createdAt'])\n",
    "\n",
    "# Rename specific columns to more descriptive names:\n",
    "rws.rename(columns={'text': 'review', 'reviewerName': 'reviewer', 'ratingvalue': 'rating'}, inplace=True)\n",
    "\n",
    "# Display the first 5 rows\n",
    "print(rws.head())"
   ]
  }
 ],
 "metadata": {
  "kernelspec": {
   "display_name": "base",
   "language": "python",
   "name": "python3"
  },
  "language_info": {
   "codemirror_mode": {
    "name": "ipython",
    "version": 3
   },
   "file_extension": ".py",
   "mimetype": "text/x-python",
   "name": "python",
   "nbconvert_exporter": "python",
   "pygments_lexer": "ipython3",
   "version": "3.11.7"
  }
 },
 "nbformat": 4,
 "nbformat_minor": 2
}
