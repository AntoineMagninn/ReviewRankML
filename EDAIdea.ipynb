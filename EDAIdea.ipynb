{
 "cells": [
  {
   "cell_type": "code",
   "execution_count": null,
   "metadata": {},
   "outputs": [],
   "source": [
    "# Display the number of rows and columns\n",
    "print(df.shape)\n",
    "\n",
    "How can I rename the columns of the DataFrame `df` in Python?\n",
    "\n",
    "# Display the summary statistics\n",
    "print(df.describe())\n",
    "\n",
    "# Display the number of unique values for each column\n",
    "print(df.nunique())\n",
    "\n",
    "# Display the number of unique values for the 'Rating' column\n",
    "print(df['Rating'].nunique())\n",
    "\n",
    "# Display the unique values for the 'Rating' column\n",
    "print(df['Rating'].unique())\n",
    "\n",
    "# Display the frequency of each unique value in the 'Rating' column\n",
    "print(df['Rating'].value_counts())\n",
    "\n",
    "# Display the frequency of each unique value in the 'Rating' column as a percentage\n",
    "print(df['Rating'].value_counts(normalize=True))\n",
    "\n",
    "# Display the frequency of each unique value in the 'Rating' column as a percentage and sorted by index\n",
    "print(df['Rating'].value_counts(normalize=True).sort_index())\n",
    "\n",
    "# Display the frequency of each unique value in the 'Rating' column as a percentage and sorted by value\n",
    "print(df['Rating'].value_counts(normalize=True).sort_values())\n",
    "\n",
    "# Display the frequency of each unique value in the 'Rating' column as a percentage and sorted by value in descending order\n",
    "print(df['Rating'].value_counts(normalize=True).sort_values(ascending=False))\n",
    "\n",
    "# Display the frequency of each unique value in the 'Rating' column as a percentage and sorted by value in descending order\n",
    "# and round the percentages to 2 decimal places\n",
    "print(df['Rating'].value_counts(normalize=True).sort_values(ascending=False).round(2))\n",
    "\n"
   ]
  }
 ],
 "metadata": {
  "language_info": {
   "name": "python"
  }
 },
 "nbformat": 4,
 "nbformat_minor": 2
}
